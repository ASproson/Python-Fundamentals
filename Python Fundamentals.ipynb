{
 "cells": [
  {
   "cell_type": "markdown",
   "id": "distributed-vermont",
   "metadata": {},
   "source": [
    "## Calculations\n",
    "\n",
    "Python performs addition, subtraction, division and multiplication as expected. When division is performed the result always has a decimal place.\n",
    "\n",
    "### Modulo\n",
    "Modulo returns the remainder from a division:"
   ]
  },
  {
   "cell_type": "code",
   "execution_count": 7,
   "id": "unauthorized-albert",
   "metadata": {},
   "outputs": [
    {
     "name": "stdout",
     "output_type": "stream",
     "text": [
      "Mod1 =  0\n",
      "Mod2 =  2\n"
     ]
    }
   ],
   "source": [
    "mod1 = 30 % 5\n",
    "print(\"Mod1 = \", mod1)\n",
    "\n",
    "mod2 = 32 % 5\n",
    "print(\"Mod2 = \", mod2)"
   ]
  },
  {
   "cell_type": "markdown",
   "id": "norman-company",
   "metadata": {},
   "source": [
    "## Plus Equals\n",
    "Just like in SQL we can use += to update variables by adding the old variable value to the new variable value:"
   ]
  },
  {
   "cell_type": "code",
   "execution_count": 19,
   "id": "returning-prospect",
   "metadata": {},
   "outputs": [
    {
     "name": "stdout",
     "output_type": "stream",
     "text": [
      "Miles hiked =  15\n",
      "Many miles, very high\n"
     ]
    }
   ],
   "source": [
    "miles_hiked = 10\n",
    "miles_hiked += 5\n",
    "print(\"Miles hiked = \", miles_hiked)\n",
    "\n",
    "hike_caption = 'Many miles'\n",
    "hike_caption += ', very high'\n",
    "print(hike_caption)"
   ]
  },
  {
   "cell_type": "markdown",
   "id": "massive-sydney",
   "metadata": {},
   "source": [
    "## Concatenation\n",
    "We can use + to 'add' strings together, when 'adding' a number to the string we have to use (str):"
   ]
  },
  {
   "cell_type": "code",
   "execution_count": 13,
   "id": "hybrid-expansion",
   "metadata": {},
   "outputs": [
    {
     "name": "stdout",
     "output_type": "stream",
     "text": [
      "hello there, today is the 23rd\n"
     ]
    }
   ],
   "source": [
    "greet = 'hello'\n",
    "greeting = 'there, today is the'\n",
    "daydate = 23\n",
    "print(greet + ' ' + greeting + ' ' + str(daydate) + 'rd')"
   ]
  },
  {
   "cell_type": "markdown",
   "id": "august-stereo",
   "metadata": {},
   "source": [
    "## Multiline Strings\n",
    "When a string has multiple lines this can cause a SyntaxError, the avoid this we use \"\"\" \"\"\":"
   ]
  },
  {
   "cell_type": "code",
   "execution_count": 14,
   "id": "occupational-wilderness",
   "metadata": {},
   "outputs": [
    {
     "name": "stdout",
     "output_type": "stream",
     "text": [
      "Row row row\n",
      "Your boat\n",
      "Gently down the stream\n"
     ]
    }
   ],
   "source": [
    "text = \"\"\"Row row row\n",
    "Your boat\n",
    "Gently down the stream\"\"\"\n",
    "\n",
    "print(text)"
   ]
  },
  {
   "cell_type": "markdown",
   "id": "selective-dominant",
   "metadata": {},
   "source": [
    "## Functions\n",
    "With functions we define the function parameter and then place a value in that parameter when we call the function:"
   ]
  },
  {
   "cell_type": "code",
   "execution_count": 22,
   "id": "simplified-assurance",
   "metadata": {},
   "outputs": [
    {
     "data": {
      "text/plain": [
       "1024"
      ]
     },
     "execution_count": 22,
     "metadata": {},
     "output_type": "execute_result"
    }
   ],
   "source": [
    "def tenth_power(num):\n",
    "    return num ** 10\n",
    "tenth_power(2)"
   ]
  },
  {
   "cell_type": "markdown",
   "id": "quantitative-delaware",
   "metadata": {},
   "source": [
    "Here define the function tenth_power and create the parameter (num)<br>\n",
    "We then return num to the power of 10 (2x2x2x2x2x2x2x2x2x2)<br>\n",
    "Finally we pass value through the parameter with tenth_power(2)"
   ]
  },
  {
   "cell_type": "code",
   "execution_count": 25,
   "id": "conditional-providence",
   "metadata": {},
   "outputs": [
    {
     "data": {
      "text/plain": [
       "60.0"
      ]
     },
     "execution_count": 25,
     "metadata": {},
     "output_type": "execute_result"
    }
   ],
   "source": [
    "def win_percentage(wins, losses):\n",
    "    total_games = wins + losses\n",
    "    total_wins = wins / total_games * 100\n",
    "    return total_wins\n",
    "win_percentage(60, 40)"
   ]
  },
  {
   "cell_type": "markdown",
   "id": "large-clothing",
   "metadata": {},
   "source": [
    "Here we define win_percentage with two parameters: wins and losses<br>\n",
    "We create a local variable called total_games which is the number of wins + losses<br>\n",
    "Then we create the percentage by dividing the number of wins by the total of the games, * 100<br>\n",
    "Finally we call the win_percentage function passing our values through the parameter"
   ]
  },
  {
   "cell_type": "markdown",
   "id": "northern-subdivision",
   "metadata": {},
   "source": [
    "## Conditional Statements/Control Flow\n",
    "We use Boolean expressions to determine the flow of our code, in SQL this is known as the CASE statement. These expressions can be numerical or string based and are best used to filter information:"
   ]
  },
  {
   "cell_type": "code",
   "execution_count": 34,
   "id": "ranging-click",
   "metadata": {},
   "outputs": [
    {
     "name": "stdout",
     "output_type": "stream",
     "text": [
      "False True\n"
     ]
    }
   ],
   "source": [
    "demo = 1 == 2\n",
    "demo2 = 2 != 4\n",
    "print(demo, demo2)"
   ]
  },
  {
   "cell_type": "code",
   "execution_count": 35,
   "id": "green-macedonia",
   "metadata": {},
   "outputs": [
    {
     "name": "stdout",
     "output_type": "stream",
     "text": [
      "apple\n"
     ]
    }
   ],
   "source": [
    "if 2 == 4 - 2:\n",
    "    print('apple')"
   ]
  },
  {
   "cell_type": "code",
   "execution_count": 38,
   "id": "affiliated-netscape",
   "metadata": {},
   "outputs": [
    {
     "name": "stdout",
     "output_type": "stream",
     "text": [
      "True False True\n"
     ]
    }
   ],
   "source": [
    "x = 1 + 1 == 2\n",
    "y = not 1 + 1 == 2\n",
    "z = 1 + 1 == 3 or 1 + 1 == 2\n",
    "print(x,y,z)"
   ]
  },
  {
   "cell_type": "markdown",
   "id": "built-vegetation",
   "metadata": {},
   "source": [
    "Here we can see how basic conditionals work. Note that when using the or operator if **either** value is true for the variable, then it will always return true<br>\n",
    "\n",
    "elif statements allow us to chain conditionals together and perform an action based on the input value:"
   ]
  },
  {
   "cell_type": "code",
   "execution_count": 40,
   "id": "protected-stadium",
   "metadata": {},
   "outputs": [
    {
     "name": "stdout",
     "output_type": "stream",
     "text": [
      "Silver\n"
     ]
    }
   ],
   "source": [
    "donation = 80\n",
    "\n",
    "if donation >= 100:\n",
    "    print(\"Gold\")\n",
    "elif donation >= 60:\n",
    "    print(\"Silver\")\n",
    "elif donation >= 20:\n",
    "    print(\"Bronze\")\n",
    "else:\n",
    "    print(\"Thank you\")"
   ]
  },
  {
   "cell_type": "markdown",
   "id": "north-exercise",
   "metadata": {},
   "source": [
    "## Lists\n",
    "Lists are an ordered set of objects in Python and can contain multiple data types, or even other lists:"
   ]
  },
  {
   "cell_type": "code",
   "execution_count": 42,
   "id": "special-shoot",
   "metadata": {},
   "outputs": [
    {
     "name": "stdout",
     "output_type": "stream",
     "text": [
      "[] [67, 59, 70] ['Sam', 67] [['Jenny, 61'], ['Alex', 65]]\n"
     ]
    }
   ],
   "source": [
    "emptylist = []\n",
    "heights = [67, 59, 70]\n",
    "sam_height = ['Sam', 67]\n",
    "heights_lst = [['Jenny, 61'], ['Alex', 65]]\n",
    "print(emptylist, heights, sam_height, heights_lst)"
   ]
  },
  {
   "cell_type": "markdown",
   "id": "classified-today",
   "metadata": {},
   "source": [
    "## .zip()\n",
    ".zip() takes two or more lists as an input and then returns an object that contains a list of pairs - as if the two lists were zipped together:"
   ]
  },
  {
   "cell_type": "code",
   "execution_count": 43,
   "id": "southwest-command",
   "metadata": {},
   "outputs": [
    {
     "name": "stdout",
     "output_type": "stream",
     "text": [
      "[('Jenny', 61), ('Alex', 64)]\n"
     ]
    }
   ],
   "source": [
    "names = ['Jenny', 'Alex']\n",
    "heights = [61, 64]\n",
    "\n",
    "namesandheights = zip(names, heights)\n",
    "print(list(namesandheights))"
   ]
  },
  {
   "cell_type": "markdown",
   "id": "civic-murray",
   "metadata": {},
   "source": [
    "**Note:** When we zip two lists together we create an **object**, not a list. As such if we were print(namesandheights) we would only return the location of the object in the computer memory, not the list itself.<br>\n",
    "\n",
    "This is why we have to convert the object back into a list to print(**list**(namesandheights))"
   ]
  },
  {
   "cell_type": "markdown",
   "id": "pregnant-acoustic",
   "metadata": {},
   "source": [
    "## .append()\n",
    "We use .append() to literally append a new value to a list:"
   ]
  },
  {
   "cell_type": "code",
   "execution_count": 44,
   "id": "thorough-clear",
   "metadata": {},
   "outputs": [
    {
     "name": "stdout",
     "output_type": "stream",
     "text": [
      "[1, 2, 3]\n"
     ]
    }
   ],
   "source": [
    "lst = [1, 2]\n",
    "lst.append(3)\n",
    "print(lst)"
   ]
  },
  {
   "cell_type": "markdown",
   "id": "greenhouse-temple",
   "metadata": {},
   "source": [
    "## range()\n",
    "range() is used to create a list of consecutive numbers, note that is always generates from 0 and **ends before the input number**:"
   ]
  },
  {
   "cell_type": "code",
   "execution_count": 47,
   "id": "prepared-munich",
   "metadata": {},
   "outputs": [
    {
     "name": "stdout",
     "output_type": "stream",
     "text": [
      "Counts from 0-9:  [0, 1, 2, 3, 4, 5, 6, 7, 8, 9]\n",
      "Counts from 0-10 in increments of 2:  [0, 2, 4, 6, 8, 10]\n"
     ]
    }
   ],
   "source": [
    "x = range(10)\n",
    "y = range(0, 11, 2)\n",
    "print(\"Counts from 0-9: \", list(x))\n",
    "print(\"Counts from 0-10 in increments of 2: \", list(y))"
   ]
  },
  {
   "cell_type": "markdown",
   "id": "french-elevation",
   "metadata": {},
   "source": [
    "Also note that when we try to print x without using **list(x)** it also returns the object, not the list itself"
   ]
  },
  {
   "cell_type": "markdown",
   "id": "forward-substitute",
   "metadata": {},
   "source": [
    "## .len()\n",
    "We can find the length of a list using .len():"
   ]
  },
  {
   "cell_type": "code",
   "execution_count": 48,
   "id": "blessed-jefferson",
   "metadata": {},
   "outputs": [
    {
     "name": "stdout",
     "output_type": "stream",
     "text": [
      "The length of the list is:  5\n"
     ]
    }
   ],
   "source": [
    "lst = [1, 2, 3, 4, 5]\n",
    "print(\"The length of the list is: \", len(lst))"
   ]
  },
  {
   "cell_type": "markdown",
   "id": "strong-analysis",
   "metadata": {},
   "source": [
    "## List Indexes\n",
    "Lists are organized in regard to their index, and just like range() they count from 0:"
   ]
  },
  {
   "cell_type": "code",
   "execution_count": 49,
   "id": "grateful-catholic",
   "metadata": {},
   "outputs": [
    {
     "name": "stdout",
     "output_type": "stream",
     "text": [
      "ben\n"
     ]
    }
   ],
   "source": [
    "names = ['cam', 'olivia', 'ben']\n",
    "print(names[2])"
   ]
  },
  {
   "cell_type": "markdown",
   "id": "filled-license",
   "metadata": {},
   "source": [
    "Above we can see that we called names[2] and return ben in spite of him being third in the list. This is because his index is [2]<br>\n",
    "\n",
    "We can also access the last element of a list of undetermined length by using [-1]:"
   ]
  },
  {
   "cell_type": "code",
   "execution_count": 50,
   "id": "suburban-conducting",
   "metadata": {},
   "outputs": [
    {
     "name": "stdout",
     "output_type": "stream",
     "text": [
      "ben\n"
     ]
    }
   ],
   "source": [
    "names = ['cam', 'olivia', 'ben']\n",
    "print(names[-1])"
   ]
  },
  {
   "cell_type": "markdown",
   "id": "likely-affiliation",
   "metadata": {},
   "source": [
    "We can also add list indexes together perpetually like the below:"
   ]
  },
  {
   "cell_type": "code",
   "execution_count": 51,
   "id": "indian-victor",
   "metadata": {},
   "outputs": [
    {
     "data": {
      "text/plain": [
       "[1, 1, 2, 3, 5, 8]"
      ]
     },
     "execution_count": 51,
     "metadata": {},
     "output_type": "execute_result"
    }
   ],
   "source": [
    "lst = [1, 1, 2]\n",
    "def append_lst(lst):\n",
    "    lst.append(lst[-1] + lst[-2])\n",
    "    lst.append(lst[-1] + lst[-2])\n",
    "    lst.append(lst[-1] + lst[-2])\n",
    "    return lst\n",
    "append_lst(lst)"
   ]
  },
  {
   "cell_type": "markdown",
   "id": "emotional-belle",
   "metadata": {},
   "source": [
    "This first take 2, then adds 1 to = 3, and then appends it to the list<br>\n",
    "It then takes 3, adds 2 to = 5, and then also appends it to the list and so on"
   ]
  },
  {
   "cell_type": "markdown",
   "id": "afraid-marriage",
   "metadata": {},
   "source": [
    "## List Slicing\n",
    "When we want to select a specific number of elements within a list we use list slicing:"
   ]
  },
  {
   "cell_type": "code",
   "execution_count": 55,
   "id": "generic-tongue",
   "metadata": {},
   "outputs": [
    {
     "name": "stdout",
     "output_type": "stream",
     "text": [
      "letters = ['a', 'b', 'c', 'd', 'e', 'f']\n",
      "sublist = ['b', 'c']\n",
      "upto index :2 ['a', 'b']\n",
      "from index 2: ['c', 'd', 'e', 'f']\n"
     ]
    }
   ],
   "source": [
    "letters = ['a', 'b', 'c', 'd', 'e', 'f']\n",
    "sublist = letters[1:3]\n",
    "first = letters[:2]\n",
    "last = letters [2:]\n",
    "print(\"letters =\", letters) \n",
    "print(\"sublist =\", sublist)\n",
    "print(\"upto index :2\", first)\n",
    "print(\"from index 2:\", last)"
   ]
  },
  {
   "cell_type": "markdown",
   "id": "following-shopping",
   "metadata": {},
   "source": [
    "**Note:** <br>\n",
    "When list slicing and we want to go *up to a certain index we use :2<br>*<br>\n",
    "When we want to *start from a certain index we use 2:<br>* <br>\n",
    "Again note that the index counts from 0, hence why b = 1 and not 2<br> <br>\n",
    "The syntax here is **[start:end]**"
   ]
  },
  {
   "cell_type": "markdown",
   "id": "graphic-functionality",
   "metadata": {},
   "source": [
    "## .count()\n",
    "To count how many occurences of a value or a string there are in a value we use .count():"
   ]
  },
  {
   "cell_type": "code",
   "execution_count": 57,
   "id": "international-question",
   "metadata": {},
   "outputs": [
    {
     "name": "stdout",
     "output_type": "stream",
     "text": [
      "p count = 2\n",
      "numcount = 3\n"
     ]
    }
   ],
   "source": [
    "letters = ['m', 'i', 's', 's', 'i', 's', 's', 'i', 'p', 'p', 'i'] \n",
    "p = letters.count('p')\n",
    "numbers = [10, 5, 6, 10, 45, 2, 1, 10]\n",
    "numcount = numbers.count(10)\n",
    "print(\"p count =\", p)\n",
    "print(\"numcount =\", numcount)"
   ]
  },
  {
   "cell_type": "markdown",
   "id": "juvenile-impression",
   "metadata": {},
   "source": [
    "## .sort() and sorted\n",
    "We can sort a list in place by using .sort(), the below sorts alphabetically:"
   ]
  },
  {
   "cell_type": "code",
   "execution_count": 58,
   "id": "respiratory-record",
   "metadata": {},
   "outputs": [
    {
     "name": "stdout",
     "output_type": "stream",
     "text": [
      "['Claire', 'Sam', 'Xander']\n"
     ]
    }
   ],
   "source": [
    "names = ['Sam', 'Xander', 'Claire']\n",
    "names.sort()\n",
    "print(names)"
   ]
  },
  {
   "cell_type": "markdown",
   "id": "daily-aurora",
   "metadata": {},
   "source": [
    "Note that .sort() does not return anything, it only sorts a pre-existing list in place, it does not create a new list. <br>\n",
    "\n",
    "A second way of sorting is to use sorted, which *does* create a new list:"
   ]
  },
  {
   "cell_type": "code",
   "execution_count": 59,
   "id": "overhead-valley",
   "metadata": {},
   "outputs": [
    {
     "name": "stdout",
     "output_type": "stream",
     "text": [
      "['Beth', 'Michael', 'Xavier']\n"
     ]
    }
   ],
   "source": [
    "names = ['Xavier', 'Beth', 'Michael']\n",
    "sorted_names = sorted(names)\n",
    "print(sorted_names)"
   ]
  },
  {
   "cell_type": "markdown",
   "id": "occupational-birthday",
   "metadata": {},
   "source": [
    "## Tuples\n",
    "Tuples are used to store multiple items in a single variable much like lists, **however** a tuple is a list that is **ordered and unchangable, we cannot add or remove items from a tuple.**<br>\n",
    "\n",
    "Tuples are like lists but use () rather than [], additionally because tuples are ordered, inmutable lists they can store duplicate items because they will have a unique index value"
   ]
  },
  {
   "cell_type": "code",
   "execution_count": 60,
   "id": "ambient-retailer",
   "metadata": {},
   "outputs": [],
   "source": [
    "tupledemo = (\"apple\", \"banana\")\n"
   ]
  },
  {
   "cell_type": "markdown",
   "id": "binary-south",
   "metadata": {},
   "source": [
    "## For Loops\n",
    "Loops allow us to iterate on something many times over until we either meet a condition or until we reach the end of the object (such as a list)"
   ]
  },
  {
   "cell_type": "code",
   "execution_count": 61,
   "id": "incorrect-exhibit",
   "metadata": {},
   "outputs": [
    {
     "name": "stdout",
     "output_type": "stream",
     "text": [
      "Football\n",
      "Hockey\n",
      "Baseball\n"
     ]
    }
   ],
   "source": [
    "sports = ['Football', 'Hockey', 'Baseball']\n",
    "for x in sports:\n",
    "    print(x)"
   ]
  },
  {
   "cell_type": "markdown",
   "id": "fleet-singapore",
   "metadata": {},
   "source": [
    "Here, rather than using print() three different times we can instead loop through the list called sports and print(x) until we reach the end of the list"
   ]
  },
  {
   "cell_type": "code",
   "execution_count": 62,
   "id": "known-investment",
   "metadata": {},
   "outputs": [
    {
     "name": "stdout",
     "output_type": "stream",
     "text": [
      "Warning!\n",
      "Warning!\n"
     ]
    }
   ],
   "source": [
    "for x in range(2):\n",
    "    print(\"Warning!\")"
   ]
  },
  {
   "cell_type": "markdown",
   "id": "fallen-scoop",
   "metadata": {},
   "source": [
    "Essentially we take the temporary variable, in this case **x**, and for however many times x appears in range(2) we call the print function"
   ]
  },
  {
   "cell_type": "code",
   "execution_count": 98,
   "id": "modern-kansas",
   "metadata": {},
   "outputs": [
    {
     "name": "stdout",
     "output_type": "stream",
     "text": [
      "Length of the word is: 11\n"
     ]
    }
   ],
   "source": [
    "def get_length(word):\n",
    "    counter = 0\n",
    "    for letter in word:\n",
    "        counter += 1\n",
    "    return counter\n",
    "print(\"Length of the word is:\", get_length(\"blueberries\"))"
   ]
  },
  {
   "cell_type": "markdown",
   "id": "helpful-citizen",
   "metadata": {},
   "source": [
    "## Loop Breaks & Continue\n",
    "To save on compute power and improve query performance we often want to cut a loop off when it reaches a certain point:"
   ]
  },
  {
   "cell_type": "code",
   "execution_count": 64,
   "id": "deluxe-signal",
   "metadata": {},
   "outputs": [
    {
     "name": "stdout",
     "output_type": "stream",
     "text": [
      "shirt\n",
      "hat\n",
      "End of search!\n"
     ]
    }
   ],
   "source": [
    "items_sale = ['shirt', 'hat', 'scarf']\n",
    "\n",
    "for item in items_sale:\n",
    "    print(item)\n",
    "    if item == 'hat':\n",
    "        break\n",
    "print('End of search!')"
   ]
  },
  {
   "cell_type": "markdown",
   "id": "separate-venue",
   "metadata": {},
   "source": [
    "We use **continue** when we want to skip over a value, let's say we want to skip over all negative values in this list:"
   ]
  },
  {
   "cell_type": "code",
   "execution_count": 65,
   "id": "worth-determination",
   "metadata": {},
   "outputs": [
    {
     "name": "stdout",
     "output_type": "stream",
     "text": [
      "1\n",
      "2\n",
      "5\n"
     ]
    }
   ],
   "source": [
    "nums = [1, 2, -3, -4, 5]\n",
    "for num in nums:\n",
    "    if num < 0:\n",
    "        continue\n",
    "    print(num)"
   ]
  },
  {
   "cell_type": "markdown",
   "id": "simplified-offer",
   "metadata": {},
   "source": [
    "## While Loops\n",
    "While loops perform a set of code until a condition is reached:"
   ]
  },
  {
   "cell_type": "code",
   "execution_count": 66,
   "id": "amino-scanning",
   "metadata": {},
   "outputs": [
    {
     "name": "stdout",
     "output_type": "stream",
     "text": [
      "Bulldog\n",
      "dalmation\n",
      "collie\n"
     ]
    }
   ],
   "source": [
    "dogs = ['Bulldog', 'dalmation', 'collie']\n",
    "index = 0\n",
    "\n",
    "while index < len(dogs):\n",
    "    print(dogs[index])\n",
    "    index +=1"
   ]
  },
  {
   "cell_type": "markdown",
   "id": "administrative-factor",
   "metadata": {},
   "source": [
    "Here we create a while loop that says: if index is less than the length of dogs, then print, but for each print cumulatively add 1 to index. As such when index reaches the length of dogs the loop with terminate"
   ]
  },
  {
   "cell_type": "markdown",
   "id": "suspected-darwin",
   "metadata": {},
   "source": [
    "## Nested Loops\n",
    "With previous loop methods we have seen ow we can go through elements of a list, but what if we have a list made up of multiple lists?:"
   ]
  },
  {
   "cell_type": "code",
   "execution_count": 68,
   "id": "impressive-cement",
   "metadata": {},
   "outputs": [
    {
     "name": "stdout",
     "output_type": "stream",
     "text": [
      "['Ava', 'Sam']\n",
      "['Lucy', 'Max']\n",
      "Ava\n",
      "Sam\n",
      "Lucy\n",
      "Max\n"
     ]
    }
   ],
   "source": [
    "project_teams = [['Ava', 'Sam'],['Lucy', 'Max']]\n",
    "\n",
    "for team in project_teams:\n",
    "    print(team)\n",
    "\n",
    "for team in project_teams:\n",
    "    for student in team:\n",
    "        print(student)"
   ]
  },
  {
   "cell_type": "markdown",
   "id": "valid-winning",
   "metadata": {},
   "source": [
    "First we loop through project_teams to split up the list and name it team<br><br>\n",
    "Then we loop through that split up list (team) with student in team<br><br>\n",
    "This allows us to iterate through project_teams as if it were a single list, not multiple lists"
   ]
  },
  {
   "cell_type": "markdown",
   "id": "educational-vanilla",
   "metadata": {},
   "source": [
    "## List Comprehension\n",
    "List comprehensions are a shorthand version of for loops:"
   ]
  },
  {
   "cell_type": "code",
   "execution_count": 71,
   "id": "cooperative-greenhouse",
   "metadata": {},
   "outputs": [
    {
     "name": "stdout",
     "output_type": "stream",
     "text": [
      "['@coolguy35', '@kewldawg54', '@matchamom']\n",
      "['@coolguy35', '@kewldawg54', '@matchamom']\n"
     ]
    }
   ],
   "source": [
    "words = [\"@coolguy35\", \"#nofilter\", \"@kewldawg54\", \"reply\", \"timestamp\", \"@matchamom\", \"follow\", \"#updog\"] \n",
    "username = [x for x in words if x[0] == '@']\n",
    "\n",
    "\n",
    "words = [\"@coolguy35\", \"#nofilter\", \"@kewldawg54\", \"reply\", \"timestamp\", \"@matchamom\", \"follow\", \"#updog\"] \n",
    "usernames = []\n",
    "\n",
    "for x in words:\n",
    "    if x[0] == '@':\n",
    "        usernames.append(x)\n",
    "        \n",
    "print(username)\n",
    "print(usernames)"
   ]
  },
  {
   "cell_type": "markdown",
   "id": "needed-atlanta",
   "metadata": {},
   "source": [
    "We can see that the end result is the same when using list comprehension and for loops<br><br>\n",
    "Both are looping through the list 'words', checking to see if the first index == '@', and then appending that to the variable"
   ]
  },
  {
   "cell_type": "code",
   "execution_count": 82,
   "id": "corporate-philadelphia",
   "metadata": {},
   "outputs": [
    {
     "name": "stdout",
     "output_type": "stream",
     "text": [
      "[10, 34, 55, 12, 17] [100, 340, 550, 120, 170]\n"
     ]
    }
   ],
   "source": [
    "votes = [10, 34, 55, 12, 17]\n",
    "votesx10 = [x * 10 for x in votes]\n",
    "print(votesx10)"
   ]
  },
  {
   "cell_type": "code",
   "execution_count": 84,
   "id": "painful-martin",
   "metadata": {},
   "outputs": [
    {
     "name": "stdout",
     "output_type": "stream",
     "text": [
      "Length of each name:  [3, 4, 8]\n"
     ]
    }
   ],
   "source": [
    "names = ['Sam', 'Alex', 'Samantha']\n",
    "namelengths = [len(x) for x in names]\n",
    "print(\"Length of each name: \", namelengths)"
   ]
  },
  {
   "cell_type": "code",
   "execution_count": 86,
   "id": "bearing-fundamentals",
   "metadata": {},
   "outputs": [
    {
     "name": "stdout",
     "output_type": "stream",
     "text": [
      "Is their name Jerry?: [False, False, True, False]\n"
     ]
    }
   ],
   "source": [
    "names = [\"Elaine\", \"George\", \"Jerry\", \"Cos\"] \n",
    "is_Jerry = [\"Jerry\" == x for x in names] \n",
    "print(\"Is their name Jerry?:\" , is_Jerry) "
   ]
  },
  {
   "cell_type": "code",
   "execution_count": 87,
   "id": "sublime-helping",
   "metadata": {},
   "outputs": [
    {
     "name": "stdout",
     "output_type": "stream",
     "text": [
      "Greater than two [True, False, True, True, False]\n"
     ]
    }
   ],
   "source": [
    "nums = [5, -10, 40, 20, 0]\n",
    "greaterthantwo = [x > 2 for x in nums]\n",
    "print(\"Greater than two\", greaterthantwo)"
   ]
  },
  {
   "cell_type": "markdown",
   "id": "matched-switzerland",
   "metadata": {},
   "source": [
    "## List Comprehension II\n",
    "Sometimes the items in a list we will need to iterate through will be lists of themselves, in these cases we can access multiple items in those sub-lists by using the below syntax:"
   ]
  },
  {
   "cell_type": "code",
   "execution_count": 88,
   "id": "loose-spider",
   "metadata": {},
   "outputs": [
    {
     "name": "stdout",
     "output_type": "stream",
     "text": [
      "[32, 240, 966]\n"
     ]
    }
   ],
   "source": [
    "nested = [[4, 8], [15, 16], [23, 42]]\n",
    "summation = [x * y for (x, y) in nested]\n",
    "print(summation)"
   ]
  },
  {
   "cell_type": "markdown",
   "id": "limited-eugene",
   "metadata": {},
   "source": [
    "Here we loop through the nested list and for each nested list we then perform the action x * y, which takes their first value and * it by the second value in the list"
   ]
  },
  {
   "cell_type": "code",
   "execution_count": 90,
   "id": "purple-facility",
   "metadata": {},
   "outputs": [
    {
     "name": "stdout",
     "output_type": "stream",
     "text": [
      "[False, True, False]\n"
     ]
    }
   ],
   "source": [
    "nested = [[4, 8], [40, 16], [23, 42]]\n",
    "greater_than = [x > y for (x, y) in nested]\n",
    "print(greater_than)"
   ]
  },
  {
   "cell_type": "markdown",
   "id": "absent-toronto",
   "metadata": {},
   "source": [
    "Here, just like the above we loop through each nest individually and perform the calcuation for that nest, but this time we're returning boolean values"
   ]
  },
  {
   "cell_type": "markdown",
   "id": "middle-cliff",
   "metadata": {},
   "source": [
    "But what if we wanted to divide the first value in one list by another value in a second list?"
   ]
  },
  {
   "cell_type": "code",
   "execution_count": 92,
   "id": "graphic-rebecca",
   "metadata": {},
   "outputs": [
    {
     "name": "stdout",
     "output_type": "stream",
     "text": [
      "[0.25, 0.4, 0.5]\n"
     ]
    }
   ],
   "source": [
    "a = [1.0, 2.0, 3.0] \n",
    "b = [4.0, 5.0, 6.0]\n",
    "num = zip(a,b)\n",
    "nums = [x / y for (x, y) in num]\n",
    "print(nums)"
   ]
  },
  {
   "cell_type": "markdown",
   "id": "humanitarian-asthma",
   "metadata": {},
   "source": [
    "To divide one value in a list by another list we first zip the two lists together and then perform the list comprehension. We can also do the zip within the comprehension itself:"
   ]
  },
  {
   "cell_type": "code",
   "execution_count": 93,
   "id": "interpreted-central",
   "metadata": {},
   "outputs": [
    {
     "name": "stdout",
     "output_type": "stream",
     "text": [
      "[True, True, False]\n"
     ]
    }
   ],
   "source": [
    "a = [30, 42, 10] \n",
    "b = [15, 16, 17] \n",
    "greater_than = [x > y for (x, y) in zip(a, b)] \n",
    "print(greater_than) "
   ]
  },
  {
   "cell_type": "markdown",
   "id": "three-bahrain",
   "metadata": {},
   "source": [
    "## Escape Character\n",
    "When working with strings that are times when we want to include characters that already have special meaning within Python, to escape these characters we use \\:"
   ]
  },
  {
   "cell_type": "code",
   "execution_count": 99,
   "id": "fifteen-michael",
   "metadata": {},
   "outputs": [
    {
     "name": "stdout",
     "output_type": "stream",
     "text": [
      "He said: 'blueberries are my favorite'\n"
     ]
    }
   ],
   "source": [
    "favefruit = 'He said: \\'blueberries are my favorite\\''\n",
    "print(favefruit)"
   ]
  },
  {
   "cell_type": "markdown",
   "id": "selective-millennium",
   "metadata": {},
   "source": [
    "## in string\n",
    "There's a more efficient way to iterate through an entire song to determine if a character is in a string, we do this by using **in:**"
   ]
  },
  {
   "cell_type": "code",
   "execution_count": 100,
   "id": "binding-endorsement",
   "metadata": {},
   "outputs": [
    {
     "data": {
      "text/plain": [
       "True"
      ]
     },
     "execution_count": 100,
     "metadata": {},
     "output_type": "execute_result"
    }
   ],
   "source": [
    "def contains(lst, lst2):\n",
    "    return lst2 in lst\n",
    "contains(\"watermelon\", \"melon\")"
   ]
  },
  {
   "cell_type": "code",
   "execution_count": 102,
   "id": "hundred-denmark",
   "metadata": {},
   "outputs": [
    {
     "data": {
      "text/plain": [
       "['A', 'l', 'p', 'h', 'a', 'e']"
      ]
     },
     "execution_count": 102,
     "metadata": {},
     "output_type": "execute_result"
    }
   ],
   "source": [
    "def common_letters(lst, lst2):\n",
    "    common = []\n",
    "    for letter in lst:\n",
    "        if(letter in lst2) and not (letter in common):\n",
    "            common.append(letter)\n",
    "    return common\n",
    "common_letters('Alphabet', 'Alphasee')"
   ]
  },
  {
   "cell_type": "markdown",
   "id": "relative-evening",
   "metadata": {},
   "source": [
    "Here we create a function with two parameters, then we iterate through the first lst to determine if letter appears in lst2 and that is **not** currently in common; we then append that letter to common"
   ]
  },
  {
   "cell_type": "markdown",
   "id": "conservative-festival",
   "metadata": {},
   "source": [
    "## .endswith()\n",
    "Checks if the string ends with a specific character, there also optional position parameters:"
   ]
  },
  {
   "cell_type": "code",
   "execution_count": 104,
   "id": "daily-caribbean",
   "metadata": {},
   "outputs": [
    {
     "name": "stdout",
     "output_type": "stream",
     "text": [
      "True False\n"
     ]
    }
   ],
   "source": [
    "txt = 'Hello, welcome to my world.'\n",
    "x = txt.endswith('.')\n",
    "y = txt.endswith('my world.', 5, 11)\n",
    "print(x, y)\n"
   ]
  },
  {
   "cell_type": "markdown",
   "id": "rocky-refrigerator",
   "metadata": {},
   "source": [
    "## String Methods\n",
    "A variety of methods to manipulate strings:"
   ]
  },
  {
   "cell_type": "code",
   "execution_count": 108,
   "id": "common-insurance",
   "metadata": {},
   "outputs": [
    {
     "name": "stdout",
     "output_type": "stream",
     "text": [
      "SMOOTH\n",
      "loose\n",
      "Smooth\n",
      "['Line', 'split']\n",
      "Line split\n",
      "smxxth\n",
      "2\n"
     ]
    }
   ],
   "source": [
    "x = 'smooth'\n",
    "y = 'LooSe'\n",
    "z = 'Line split'\n",
    "\n",
    "print(x.upper())\n",
    "print(y.lower())\n",
    "print(x.title())\n",
    "print(z.split())\n",
    "print(z.strip())\n",
    "print(x.replace('o', 'x'))\n",
    "print(x.find('o'))"
   ]
  },
  {
   "cell_type": "markdown",
   "id": "young-patio",
   "metadata": {},
   "source": [
    "## .format()\n",
    ".format() takes variables as an argument that we can then include within the string by using {} as placeholders:"
   ]
  },
  {
   "cell_type": "code",
   "execution_count": 112,
   "id": "solid-register",
   "metadata": {},
   "outputs": [
    {
     "name": "stdout",
     "output_type": "stream",
     "text": [
      "My favorite song is Falling Away by Muse\n"
     ]
    },
    {
     "data": {
      "text/plain": [
       "'The poem \"Because I could not stop for death\" is written by Emily Dickinson'"
      ]
     },
     "execution_count": 112,
     "metadata": {},
     "output_type": "execute_result"
    }
   ],
   "source": [
    "def fave_song(song, artist):\n",
    "    return \"My favorite song is {} by {}\".format(song, artist)\n",
    "\n",
    "print(fave_song(\"Falling Away\", \"Muse\"))\n",
    "\n",
    "def poem_title(title, poet):\n",
    "    return \"The poem \\\"{title}\\\" is written by {poet}\".format(title = title, poet = poet)\n",
    "\n",
    "poem_title('Because I could not stop for death', 'Emily Dickinson')"
   ]
  },
  {
   "cell_type": "markdown",
   "id": "grave-making",
   "metadata": {},
   "source": [
    "## Dictionaries\n",
    "Dictionaries are an unordered set of key: value pairs, similar to lists within lists but with more accessibility. Dictionaries can contain any data type, even other lists and dictionaries, **however** the key can only be a single type. This is to ensure the dictionary is **hashable**:"
   ]
  },
  {
   "cell_type": "code",
   "execution_count": 115,
   "id": "conscious-vehicle",
   "metadata": {},
   "outputs": [],
   "source": [
    "menu = {'oatmal': 4, 'muffin': 5}\n",
    "subtotal_to_total = {20: 24, 8: 12}\n",
    "students_in_classes = {'software design': [['Aaron'], ['Sam']], 'math': [['Ann'], ['Ben']]}\n",
    "student = {'Name': 'Ren', \"Age\": 18, 'Siblings': [['Ramone'], ['Sally']]}"
   ]
  },
  {
   "cell_type": "markdown",
   "id": "connected-latin",
   "metadata": {},
   "source": [
    "## Adding, Overwriting, and Updating Dictionaries\n",
    "To add a value to a dictionary we simply create a new key and assign it a value, to overwite a value we call the key and change its value, to update a dictionary we use update.() - using update.() we can also overwrite previous values:"
   ]
  },
  {
   "cell_type": "code",
   "execution_count": 121,
   "id": "quarterly-lexington",
   "metadata": {},
   "outputs": [
    {
     "name": "stdout",
     "output_type": "stream",
     "text": [
      "{'Oatmeal': 3, 'Muffin': 4, 'Cheesecake': 6}\n",
      "{'Oatmeal': 3, 'Muffin': 4, 'Cheesecake': 6, 'Bread': 1, 'Eggs': 2.5}\n"
     ]
    }
   ],
   "source": [
    "menu = {'Oatmeal': 5, 'Muffin': 4}\n",
    "menu['Cheesecake'] = 6\n",
    "menu['Oatmeal'] = 3\n",
    "print(menu)\n",
    "\n",
    "menu2 = {'Oatmeal': 5, 'Muffin': 4}\n",
    "menu2.update({'Cheesecake': 6, 'Bread': 1, 'Eggs': 2.50, 'Oatmeal': 3})\n",
    "print(menu2)"
   ]
  },
  {
   "cell_type": "markdown",
   "id": "durable-zimbabwe",
   "metadata": {},
   "source": [
    "## Accessing Keys\n",
    "There are times when we want to access a specific key in a dictionary, to do so we:"
   ]
  },
  {
   "cell_type": "code",
   "execution_count": 133,
   "id": "civil-guidance",
   "metadata": {},
   "outputs": [
    {
     "name": "stdout",
     "output_type": "stream",
     "text": [
      "828\n",
      "That key does not exist!\n"
     ]
    }
   ],
   "source": [
    "building_height = {\"Burj Khalifa\": 828, \"Shanghai Tower\": 632}\n",
    "print(building_height[\"Burj Khalifa\"])\n",
    "\n",
    "key_to_check = 'Landmark 81'\n",
    "\n",
    "try:\n",
    "    print(building_height[key_to_check])\n",
    "except KeyError:\n",
    "    print('That key does not exist!')"
   ]
  },
  {
   "cell_type": "markdown",
   "id": "durable-politics",
   "metadata": {},
   "source": [
    "## .get() and Dictionary Key Access\n",
    "Rather than using the try/except method above, we can instead create parameter that can take multiple input values using .get():"
   ]
  },
  {
   "cell_type": "code",
   "execution_count": 134,
   "id": "mobile-arena",
   "metadata": {},
   "outputs": [
    {
     "name": "stdout",
     "output_type": "stream",
     "text": [
      "632\n"
     ]
    },
    {
     "data": {
      "text/plain": [
       "'Key not found'"
      ]
     },
     "execution_count": 134,
     "metadata": {},
     "output_type": "execute_result"
    }
   ],
   "source": [
    "building_height = {\"Burj Khalifa\": 828, \"Shanghai Tower\": 632}\n",
    "print(building_height.get('Shanghai Tower', 0))\n",
    "building_height.get('My house', 'Key not found')"
   ]
  },
  {
   "cell_type": "markdown",
   "id": "psychological-register",
   "metadata": {},
   "source": [
    "## .pop() Remove an item from a dictionary\n",
    "We use .pop() when we want to delete an item from a dictionary when we know the key value, this is similar to using up items in an inventory in games:"
   ]
  },
  {
   "cell_type": "code",
   "execution_count": 135,
   "id": "threaded-sarah",
   "metadata": {},
   "outputs": [
    {
     "name": "stdout",
     "output_type": "stream",
     "text": [
      "HP = 65\n",
      "Inventory = {'health potion': 10, 'cake of the cure': 5, 'green elixir': 20, 'strength sandwich': 25}\n"
     ]
    }
   ],
   "source": [
    "available_items = {\"health potion\": 10, \"cake of the cure\": 5, \"green elixir\": 20, \"strength sandwich\": 25, \"stamina grains\": 15, \"power stew\": 30} \n",
    "health_points = 20 \n",
    "health_points += available_items.pop(\"stamina grains\", 0) \n",
    "health_points += available_items.pop(\"power stew\", 0) \n",
    "health_points += available_items.pop(\"mystic bread\", 0)\n",
    "print(\"HP =\", health_points)\n",
    "print(\"Inventory =\", available_items)"
   ]
  },
  {
   "cell_type": "markdown",
   "id": "verbal-junior",
   "metadata": {},
   "source": [
    "## Gets all Keys or Values in a Dictionary\n",
    "We use .keys() and .values() to get their respective values within a dictionary:"
   ]
  },
  {
   "cell_type": "code",
   "execution_count": 136,
   "id": "least-gamma",
   "metadata": {},
   "outputs": [
    {
     "name": "stdout",
     "output_type": "stream",
     "text": [
      "Cheesecake\n",
      "Bread\n",
      "Eggs\n",
      "Oatmeal\n",
      "6\n",
      "1\n",
      "2.5\n",
      "3\n"
     ]
    }
   ],
   "source": [
    "menu = {'Cheesecake': 6, 'Bread': 1, 'Eggs': 2.50, 'Oatmeal': 3}\n",
    "for item in menu.keys():\n",
    "    print(item)\n",
    "    \n",
    "for price in menu.values():\n",
    "    print(price)"
   ]
  },
  {
   "cell_type": "markdown",
   "id": "external-playlist",
   "metadata": {},
   "source": [
    "## Get all Keys AND Values\n",
    "We use .items() to get the complete set within a dictionary:"
   ]
  },
  {
   "cell_type": "code",
   "execution_count": 138,
   "id": "relative-light",
   "metadata": {},
   "outputs": [
    {
     "name": "stdout",
     "output_type": "stream",
     "text": [
      "Apple has a value of 184 billion dollars\n",
      "Google has a value of 141.7 billion dollars\n",
      "Microsoft has a value of 80 billion dollars\n",
      "Coca-Cola has a value of 69.7 billion dollars\n",
      "Amazon has a value of 64.8 billion dollars\n"
     ]
    }
   ],
   "source": [
    "biggest_brands = {\"Apple\": 184, \"Google\": 141.7, \"Microsoft\": 80, \"Coca-Cola\": 69.7, \"Amazon\": 64.8}\n",
    "\n",
    "for company, value in biggest_brands.items():\n",
    "    print(company + \" has a value of \" + str(value) + \" billion dollars\")"
   ]
  },
  {
   "cell_type": "markdown",
   "id": "patient-contribution",
   "metadata": {},
   "source": [
    "## Classes\n",
    "Classes act as a template for a unique data type that doesn't already exist within Python. For example, if we need to represent an enemy in a game we should create an **enemy** class which contains data such as health and armor, as well as functionality for things such as fire_weapon and damage.<br>\n",
    "\n",
    "As seen below, when we declare that Enemy_One = Enemy(), we are instantiating Enemy_One to be part of the **object** class Enemy<br>\n",
    "\n",
    "Using the enemy class we can create other enemies based within that class but with different properties and functions, such as a flying enemy:\n"
   ]
  },
  {
   "cell_type": "code",
   "execution_count": 141,
   "id": "center-walker",
   "metadata": {},
   "outputs": [
    {
     "name": "stdout",
     "output_type": "stream",
     "text": [
      "HP = 10 Armor = 2\n"
     ]
    }
   ],
   "source": [
    "class Enemy:\n",
    "    hp = 10\n",
    "    armor = 2\n",
    "    \n",
    "Enemy_One = Enemy()\n",
    "print(\"HP =\", Enemy_One.hp, \"Armor =\", Enemy_One.armor)"
   ]
  },
  {
   "cell_type": "markdown",
   "id": "indonesian-newcastle",
   "metadata": {},
   "source": [
    "## Class Methods\n",
    "Methods are functions that are functions defined within a class. The first argument in a method is always **self** and methods **always have at least one argument**:"
   ]
  },
  {
   "cell_type": "code",
   "execution_count": 146,
   "id": "persistent-dairy",
   "metadata": {},
   "outputs": [
    {
     "name": "stdout",
     "output_type": "stream",
     "text": [
      "Dogs experience 7 years for every 1 human year\n"
     ]
    }
   ],
   "source": [
    "class DogTime:\n",
    "    dog_time_dilation = 7\n",
    "    \n",
    "    def time_explanation(self):\n",
    "        print('Dogs experience {} years for every 1 human year'.format(self.dog_time_dilation))\n",
    "\n",
    "spot_the_dog = DogTime()\n",
    "spot_the_dog.time_explanation()"
   ]
  },
  {
   "cell_type": "markdown",
   "id": "divine-roommate",
   "metadata": {},
   "source": [
    "## Class Methods with Arguments\n",
    "Methods can take more arguments than just self, much like regular functions:"
   ]
  },
  {
   "cell_type": "code",
   "execution_count": 151,
   "id": "registered-reception",
   "metadata": {},
   "outputs": [
    {
     "name": "stdout",
     "output_type": "stream",
     "text": [
      "8.045\n",
      "Pizza circle =  113.04\n"
     ]
    }
   ],
   "source": [
    "class DistanceConverter:\n",
    "    kms_in_a_mile = 1.609\n",
    "    \n",
    "    def how_many_kms(self, miles):\n",
    "        return miles * self.kms_in_a_mile\n",
    "\n",
    "converter = DistanceConverter()\n",
    "kms_in_5_miles = converter.how_many_kms(5)\n",
    "print(kms_in_5_miles)\n",
    "\n",
    "class Circle: \n",
    "  pi = 3.14 \n",
    "  def area(self, radius): \n",
    "    return Circle.pi * radius ** 2 \n",
    "\n",
    "circle = Circle() \n",
    "pizza_area = circle.area(12 / 2) \n",
    "teaching_table_area = circle.area(36 / 2) \n",
    "round_room_area = circle.area(11460 / 2) \n",
    "\n",
    "print(\"Pizza circle = \", pizza_area)"
   ]
  },
  {
   "cell_type": "markdown",
   "id": "owned-portland",
   "metadata": {},
   "source": [
    "## Class Method Constructors\n",
    "There are several methods that we can define within a Python class that have special behaviour, these are often referred to as magic or dunder methods and can be spotted their double underscores<br>\n",
    "\n",
    "__init__() is used initialize a newly created object, and is called every time the class is instantiated. Methods that are used to prepare an object being instantiated are called **constructors**<br>\n",
    "\n",
    "Every time the object is called from within a init() constructor it is instantiated and then performs its action"
   ]
  },
  {
   "cell_type": "code",
   "execution_count": 153,
   "id": "comic-closure",
   "metadata": {},
   "outputs": [
    {
     "name": "stdout",
     "output_type": "stream",
     "text": [
      "Shout!\n",
      "Shout!\n"
     ]
    }
   ],
   "source": [
    "class Shouter:\n",
    "    def __init__(self):\n",
    "        print(\"Shout!\")\n",
    "\n",
    "shout1 = Shouter()\n",
    "shout2 = Shouter()"
   ]
  },
  {
   "cell_type": "markdown",
   "id": "banned-concrete",
   "metadata": {},
   "source": [
    "## Class Method Instance Variables\n",
    "A class is a schematic for a data type<br>\n",
    "An object is an instance of a class<br>\n",
    "\n",
    "But why is there such a strong need to differentiate between the two? This is because each instance of a class can hold different kinds of data, as such, the data held by an object is referred to as an instance variable<br>\n",
    "\n",
    "Instance variables **are not** shared by all instances of a class, they are **specific** to the object they are attached to:"
   ]
  },
  {
   "cell_type": "code",
   "execution_count": 155,
   "id": "demonstrated-victim",
   "metadata": {},
   "outputs": [],
   "source": [
    "class Store:\n",
    "    pass\n",
    "\n",
    "CandyShop = Store()\n",
    "Barbers = Store()\n",
    "\n",
    "CandyShop.Store_name = 'Candy Shop 2'\n",
    "Barbers.Store_name = 'Barbershop Name'"
   ]
  },
  {
   "cell_type": "markdown",
   "id": "unlikely-microphone",
   "metadata": {},
   "source": [
    "Above we instantiated two different objects from the Store class and then assigned instance variables to these objects using the **same** attribute notation that we used for accessing the class"
   ]
  },
  {
   "cell_type": "markdown",
   "id": "listed-incident",
   "metadata": {},
   "source": [
    "## Debugging and __repr__()\n",
    "When diagonosing a problem we often need to print an object, but doing so only returns the object's location in the system memory. We use __repr__() to return the **string representation** of the object:"
   ]
  },
  {
   "cell_type": "code",
   "execution_count": 156,
   "id": "sweet-madrid",
   "metadata": {},
   "outputs": [
    {
     "name": "stdout",
     "output_type": "stream",
     "text": [
      "Ben\n"
     ]
    }
   ],
   "source": [
    "class Employee():\n",
    "    def __init__(self, name):\n",
    "        self.name = name\n",
    "        \n",
    "    def __repr__(self):\n",
    "        return self.name\n",
    "\n",
    "ben = Employee('Ben')\n",
    "print(ben)"
   ]
  },
  {
   "cell_type": "markdown",
   "id": "overall-reputation",
   "metadata": {},
   "source": [
    "## Modules\n",
    "Modules are tools and packages for Python that other users have created:"
   ]
  },
  {
   "cell_type": "code",
   "execution_count": 158,
   "id": "impressive-london",
   "metadata": {},
   "outputs": [
    {
     "name": "stdout",
     "output_type": "stream",
     "text": [
      "2021-02-08 14:32:25.011835\n",
      "20\n"
     ]
    }
   ],
   "source": [
    "from datetime import datetime\n",
    "current_time = datetime.now()\n",
    "print(current_time)\n",
    "\n",
    "import random\n",
    "random_list = [random.randint(1, 101) for I in range(101)] \n",
    "random_number = random.choice(random_list)\n",
    "print(random_number) \n",
    "\n",
    " "
   ]
  },
  {
   "cell_type": "markdown",
   "id": "appointed-belfast",
   "metadata": {},
   "source": [
    "## Module Alias and matplotlib, pyplot\n",
    "We can alias modules for easier access, here we rename pyplot as plt and then set up the graph using data randomly generated by the random module:"
   ]
  },
  {
   "cell_type": "code",
   "execution_count": 162,
   "id": "young-continuity",
   "metadata": {},
   "outputs": [
    {
     "data": {
      "image/png": "[encoded data removed]",
      "text/plain": [
       "<Figure size 432x288 with 1 Axes>"
      ]
     },
     "metadata": {
      "needs_background": "light"
     },
     "output_type": "display_data"
    }
   ],
   "source": [
    "from matplotlib import pyplot as plt\n",
    "import random\n",
    "\n",
    "numbers_a = range(1, 13)\n",
    "numbers_b = [random.randint(1, 1000) for x in range(1, 13)]\n",
    "\n",
    "plt.plot(numbers_a, numbers_b)\n",
    "plt.show()"
   ]
  },
  {
   "cell_type": "markdown",
   "id": "lined-pulse",
   "metadata": {},
   "source": [
    "## Module Rounding\n",
    "When we are writing a program that handles money we have to use the Module Decimal because Python's interal floating point arithemtic results as the below:"
   ]
  },
  {
   "cell_type": "code",
   "execution_count": 165,
   "id": "massive-amazon",
   "metadata": {},
   "outputs": [
    {
     "name": "stdout",
     "output_type": "stream",
     "text": [
      "0.44999999999999996\n",
      "3.88\n"
     ]
    }
   ],
   "source": [
    "print(0.10 + 0.35)\n",
    "\n",
    "from decimal import Decimal\n",
    "\n",
    "bread = Decimal('0.89')\n",
    "butter = Decimal('2.99')\n",
    "\n",
    "Transaction = bread + butter\n",
    "print(Transaction)"
   ]
  },
  {
   "cell_type": "markdown",
   "id": "thermal-nitrogen",
   "metadata": {},
   "source": [
    "## Files as Modules\n",
    "Functions, classes, and files are all limited by **scope**, meaning that they are only visible within the scope in which they were created; as such they are not globally available.<br>\n",
    "\n",
    "So how do we give files inside the same directory access to each other's variables? In this sense, files are actually modules, so we can import them using the syntax:"
   ]
  },
  {
   "cell_type": "code",
   "execution_count": 171,
   "id": "corporate-ocean",
   "metadata": {},
   "outputs": [],
   "source": [
    "##Library directory:\n",
    "def always_three():\n",
    "    return 3\n",
    "    \n",
    "##Live script:\n",
    "#from Library import always_three"
   ]
  },
  {
   "cell_type": "markdown",
   "id": "large-operation",
   "metadata": {},
   "source": [
    "## Files: Open, Line Iteration, Single Line\n",
    "To open files in Python we use the with open() and .read() syntax, which opens the document as a single string.<br><br>\n",
    ".readlines allows us to read the text line by line rather than as a whole string<br><br>\n",
    ".readline allows us to read the text a single line at a time, note that if we call the function multiple times it will return an empty string because when the first line is read it is removed from the .readline queue, and without a function to inject the next line it will return empty"
   ]
  },
  {
   "cell_type": "code",
   "execution_count": 172,
   "id": "indoor-myrtle",
   "metadata": {},
   "outputs": [
    {
     "name": "stdout",
     "output_type": "stream",
     "text": [
      "xxxxx\n",
      "yyyyy\n",
      "zzzzz\n"
     ]
    }
   ],
   "source": [
    "with open('document.txt') as doc:\n",
    "    document_contents = doc.read()\n",
    "print(document_contents)"
   ]
  },
  {
   "cell_type": "code",
   "execution_count": 173,
   "id": "cheap-publication",
   "metadata": {},
   "outputs": [
    {
     "name": "stdout",
     "output_type": "stream",
     "text": [
      "xxxxx\n",
      "\n",
      "yyyyy\n",
      "\n",
      "zzzzz\n"
     ]
    }
   ],
   "source": [
    "with open('document.txt') as doc:\n",
    "    for line in doc.readlines():\n",
    "        print(line)"
   ]
  },
  {
   "cell_type": "code",
   "execution_count": 174,
   "id": "reported-increase",
   "metadata": {},
   "outputs": [
    {
     "name": "stdout",
     "output_type": "stream",
     "text": [
      "xxxxx\n",
      "\n"
     ]
    }
   ],
   "source": [
    "with open('document.txt') as doc:\n",
    "    document_contents = doc.readline()\n",
    "print(document_contents)"
   ]
  },
  {
   "cell_type": "markdown",
   "id": "concerned-heaven",
   "metadata": {},
   "source": [
    "## Files: Writing and Appending\n",
    "Similar to opening a file, writing and appending use the same syntax. Note that when we write to a pre-existing file using 'w' and not 'a' we will overwrite the entire file:"
   ]
  },
  {
   "cell_type": "code",
   "execution_count": 178,
   "id": "structured-prison",
   "metadata": {},
   "outputs": [],
   "source": [
    "with open('document2.txt', 'w') as doc:\n",
    "    doc.write('File Test')\n",
    "    \n",
    "with open('document2.txt', 'a') as doc2:\n",
    "    doc2.write(' Appendium')"
   ]
  },
  {
   "cell_type": "markdown",
   "id": "exposed-spotlight",
   "metadata": {},
   "source": [
    "## Files: Open CSV\n",
    "Opening a CSV is very similar opening a normal file apart from needing to import the csv module. Here we append only the emails into an empty list:"
   ]
  },
  {
   "cell_type": "code",
   "execution_count": 180,
   "id": "objective-effort",
   "metadata": {},
   "outputs": [
    {
     "name": "stdout",
     "output_type": "stream",
     "text": [
      "['jane@outlook.com', 'pete@outlook.com', 'bob@outlook.com']\n"
     ]
    }
   ],
   "source": [
    "import csv\n",
    "list_of_emails = []\n",
    "with open('demobook.csv', newline = '') as users_csv:\n",
    "    user_reader = csv.DictReader(users_csv)\n",
    "    for row in user_reader:\n",
    "        list_of_emails.append(row['email'])\n",
    "        \n",
    "print(list_of_emails)"
   ]
  },
  {
   "cell_type": "markdown",
   "id": "structural-limit",
   "metadata": {},
   "source": [
    "## Files: Writing CSV\n",
    "Sometimes we want to programmatically create CSV files that save output so that someone can load it into spreadsheet software, let's say we have a list of users in the system and we want them in CSV for analysis:"
   ]
  },
  {
   "cell_type": "code",
   "execution_count": 182,
   "id": "acute-ethernet",
   "metadata": {},
   "outputs": [],
   "source": [
    "lst = [{'Name': 'Fredick Stahn', 'UserID': 4578, 'Admin': False}]\n",
    "\n",
    "import csv\n",
    "with open('output.csv', 'w') as output_csv:\n",
    "    fields = ['Name', 'UserID', 'Admin']\n",
    "    output_writer = csv.DictWriter(output_csv, fieldnames = fields)\n",
    "    output_writer.writeheader()\n",
    "    for item in lst:\n",
    "        output_writer.writerow(item)"
   ]
  },
  {
   "cell_type": "markdown",
   "id": "specialized-tackle",
   "metadata": {},
   "source": [
    "Here we imported the csv library and created a new csv file in write mode <br><br>\n",
    "Then we created a fields variable that stores our csv headers<br><br>\n",
    "Then we created a output_writer variable that stores the results of writing our fields to the file<br><br>\n",
    "Using that same output_writer then insert the headers based on the fields<br><br>\n",
    "Finally we iterate through the initial list and write all the rows in the file to the csv"
   ]
  },
  {
   "cell_type": "markdown",
   "id": "sacred-compilation",
   "metadata": {},
   "source": [
    "## Reading JSON\n",
    "JSON is very familiar to the Python syntax for Dictionaries and as such are easy to work with:"
   ]
  },
  {
   "cell_type": "code",
   "execution_count": 189,
   "id": "sacred-roller",
   "metadata": {},
   "outputs": [
    {
     "name": "stdout",
     "output_type": "stream",
     "text": [
      "Semi-sweet Dark\n"
     ]
    }
   ],
   "source": [
    "import json \n",
    "with open('output.json') as user_json: \n",
    "    user_data = json.load(user_json) \n",
    "print(user_data['chocolate']) "
   ]
  },
  {
   "cell_type": "markdown",
   "id": "prepared-internet",
   "metadata": {},
   "source": [
    "## Writing to JSON\n",
    "Similar to writing to CSVs, we just import the json library and follow the same method:"
   ]
  },
  {
   "cell_type": "code",
   "execution_count": 190,
   "id": "agreed-trunk",
   "metadata": {},
   "outputs": [],
   "source": [
    "turn_to_json = { \n",
    "  'eventId': 674189, \n",
    "  'dateTime': '2015-02-12T09:23:17.511Z', \n",
    "  'chocolate': 'Semi-sweet Dark', \n",
    "  'isTomatoAFruit': True }\n",
    "\n",
    "import json \n",
    "with open('output.json', 'w') as json_file: \n",
    "    json.dump(turn_to_json, json_file)"
   ]
  },
  {
   "cell_type": "code",
   "execution_count": null,
   "id": "knowing-chorus",
   "metadata": {},
   "outputs": [],
   "source": []
  }
 ],
 "metadata": {
  "kernelspec": {
   "display_name": "Python 3",
   "language": "python",
   "name": "python3"
  },
  "language_info": {
   "codemirror_mode": {
    "name": "ipython",
    "version": 3
   },
   "file_extension": ".py",
   "mimetype": "text/x-python",
   "name": "python",
   "nbconvert_exporter": "python",
   "pygments_lexer": "ipython3",
   "version": "3.8.5"
  }
 },
 "nbformat": 4,
 "nbformat_minor": 5
}
